{
 "cells": [
  {
   "cell_type": "code",
   "execution_count": 1,
   "metadata": {},
   "outputs": [],
   "source": [
    "import json\n",
    "import pandas as pd\n",
    "import common_datasets.binary_classification as bin_clas\n",
    "import common_datasets.multiclass_classification as mult_clas\n",
    "import common_datasets.regression as regression"
   ]
  },
  {
   "cell_type": "code",
   "execution_count": 2,
   "metadata": {},
   "outputs": [],
   "source": [
    "data_loaders = [val for val in dir(bin_clas) if val.startswith('load')]\n",
    "\n",
    "results = []\n",
    "\n",
    "for data_loader in data_loaders:\n",
    "    data_loader = getattr(bin_clas, data_loader)\n",
    "    dataset = data_loader()\n",
    "\n",
    "    del dataset['data']\n",
    "    del dataset['target']\n",
    "    del dataset['feature_names']\n",
    "    del dataset['feature_types']\n",
    "    del dataset['target_label']\n",
    "    del dataset['citation']\n",
    "\n",
    "    dataset['data_loader'] = data_loader.__name__\n",
    "\n",
    "    results.append(dataset)\n",
    "\n",
    "summary = pd.DataFrame(results).to_dict(orient='records')\n",
    "with open('summary_binary_classification.json', 'wt') as file:\n",
    "    file.write(json.dumps(summary))"
   ]
  },
  {
   "cell_type": "code",
   "execution_count": 3,
   "metadata": {},
   "outputs": [
    {
     "name": "stdout",
     "output_type": "stream",
     "text": [
      "load_abalone\n",
      "load_automobile\n",
      "load_balance\n",
      "load_car\n",
      "load_cleveland\n",
      "load_contraceptive\n",
      "load_dermatology\n",
      "load_ecoli\n",
      "load_fars\n",
      "load_flare\n",
      "load_glass\n",
      "load_hayes_roth\n",
      "load_kr_vs_k\n",
      "load_led7digit\n",
      "load_movement_libras\n",
      "load_newthyroid\n",
      "load_nursery\n",
      "load_page_blocks\n",
      "load_post_operative\n",
      "load_satimage\n",
      "load_segment\n",
      "load_splice\n",
      "load_tae\n",
      "load_vowel\n",
      "load_yeast\n",
      "load_zoo\n"
     ]
    }
   ],
   "source": [
    "data_loaders = [val for val in dir(mult_clas) if val.startswith('load')]\n",
    "\n",
    "results = []\n",
    "\n",
    "for data_loader in data_loaders:\n",
    "    data_loader = getattr(mult_clas, data_loader)\n",
    "    dataset = data_loader()\n",
    "\n",
    "    del dataset['data']\n",
    "    del dataset['target']\n",
    "    del dataset['feature_names']\n",
    "    del dataset['feature_types']\n",
    "    del dataset['target_label']\n",
    "    del dataset['citation']\n",
    "\n",
    "    dataset['data_loader'] = data_loader.__name__\n",
    "\n",
    "    results.append(dataset)\n",
    "\n",
    "summary = pd.DataFrame(results).to_dict(orient='records')\n",
    "with open('summary_multiclass_classification.json', 'wt') as file:\n",
    "    file.write(json.dumps(summary))"
   ]
  },
  {
   "cell_type": "code",
   "execution_count": 4,
   "metadata": {},
   "outputs": [],
   "source": [
    "data_loaders = [val for val in dir(regression) if val.startswith('load')]\n",
    "\n",
    "results = []\n",
    "\n",
    "for data_loader in data_loaders:\n",
    "    data_loader = getattr(regression, data_loader)\n",
    "    dataset = data_loader()\n",
    "\n",
    "    del dataset['data']\n",
    "    del dataset['target']\n",
    "    del dataset['feature_names']\n",
    "    del dataset['feature_types']\n",
    "    del dataset['target_label']\n",
    "    del dataset['citation']\n",
    "\n",
    "    dataset['data_loader'] = data_loader.__name__\n",
    "\n",
    "    results.append(dataset)\n",
    "\n",
    "summary = pd.DataFrame(results).to_dict(orient='records')\n",
    "with open('summary_regression.json', 'wt') as file:\n",
    "    file.write(json.dumps(summary))"
   ]
  },
  {
   "cell_type": "code",
   "execution_count": null,
   "metadata": {},
   "outputs": [],
   "source": []
  }
 ],
 "metadata": {
  "kernelspec": {
   "display_name": "common_datasets",
   "language": "python",
   "name": "python3"
  },
  "language_info": {
   "codemirror_mode": {
    "name": "ipython",
    "version": 3
   },
   "file_extension": ".py",
   "mimetype": "text/x-python",
   "name": "python",
   "nbconvert_exporter": "python",
   "pygments_lexer": "ipython3",
   "version": "3.11.5"
  },
  "orig_nbformat": 4,
  "vscode": {
   "interpreter": {
    "hash": "6df517615b383ec2bd2cb71d22ff5bcd583e96302b4c1fc4ec15170145c927db"
   }
  }
 },
 "nbformat": 4,
 "nbformat_minor": 2
}
